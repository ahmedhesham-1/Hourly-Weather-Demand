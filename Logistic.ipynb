{
 "cells": [
  {
   "cell_type": "code",
   "execution_count": null,
   "metadata": {},
   "outputs": [],
   "source": [
    "import pandas as pd\n",
    "import numpy as np\n",
    "import matplotlib.pyplot as plt\n",
    "import seaborn as sns\n",
    "from sklearn.model_selection import train_test_split\n",
    "\n",
    "dataset = pd.read_csv('weather_features.csv')\n",
    "\n",
    "from sklearn.preprocessing import LabelEncoder\n",
    "le = LabelEncoder()\n",
    "dataset[\"dt_iso\"] = le.fit_transform(dataset[\"dt_iso\"])\n",
    "dataset[\"city_name\"] = le.fit_transform(dataset[\"city_name\"])\n",
    "dataset[\"weather_description\"] = le.fit_transform(dataset[\"weather_description\"])\n",
    "dataset[\"weather_icon\"] = le.fit_transform(dataset[\"weather_icon\"])\n",
    "dataset\n",
    "\n",
    "x = dataset.drop(['weather_main'], axis=1)\n",
    "y = dataset['weather_main']\n",
    "\n",
    "\n",
    "\n",
    "xtrain, xtest, ytrain, ytest = train_test_split(x, y, test_size = 0.25, random_state = 0)\n",
    "\n",
    "from sklearn.linear_model import LogisticRegression\n",
    "classifier = LogisticRegression(solver='lbfgs', max_iter=60000)\n",
    "classifier.fit(xtrain, ytrain)\n",
    "\n",
    "y_pred = classifier.predict(xtest)\n",
    "\n",
    "from sklearn.metrics import confusion_matrix\n",
    "cm = confusion_matrix(ytest, y_pred)\n",
    "\n",
    "#print (\"Confusion Matrix : \\n\", cm)\n",
    "\n",
    "from sklearn.metrics import accuracy_score\n",
    "print (\"Accuracy : \", accuracy_score(ytest, y_pred))\n",
    "\n",
    "print(\"Showing Performance Metrics for Naive Bayes Gaussian\\n\")\n",
    "\n",
    "print (\"Training Accuracy: {}\".format(classifier.score(xtrain, ytrain)))\n",
    "predicted = classifier.predict(xtest)\n",
    "print (\"Testing Accuracy: {}\".format(classifier.score(xtest,ytest)))"
   ]
  },
  {
   "cell_type": "code",
   "execution_count": null,
   "metadata": {},
   "outputs": [],
   "source": []
  },
  {
   "cell_type": "code",
   "execution_count": null,
   "metadata": {},
   "outputs": [],
   "source": [
    "\n",
    "\n"
   ]
  }
 ],
 "metadata": {
  "kernelspec": {
   "display_name": "Python 3",
   "language": "python",
   "name": "python3"
  },
  "language_info": {
   "codemirror_mode": {
    "name": "ipython",
    "version": 3
   },
   "file_extension": ".py",
   "mimetype": "text/x-python",
   "name": "python",
   "nbconvert_exporter": "python",
   "pygments_lexer": "ipython3",
   "version": "3.8.5"
  }
 },
 "nbformat": 4,
 "nbformat_minor": 4
}
